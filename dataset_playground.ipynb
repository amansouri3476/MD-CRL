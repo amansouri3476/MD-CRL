{
 "cells": [
  {
   "cell_type": "markdown",
   "metadata": {},
   "source": [
    "## Synthetic Mixing Experiments"
   ]
  },
  {
   "cell_type": "code",
   "execution_count": 1,
   "metadata": {},
   "outputs": [
    {
     "name": "stderr",
     "output_type": "stream",
     "text": [
      "/home/mila/s/sayed.mansouri-tehrani/.conda/envs/bb/lib/python3.7/site-packages/torch/utils/data/dataloader.py:557: UserWarning: This DataLoader will create 6 worker processes in total. Our suggested max number of worker in current system is 1, which is smaller than what this DataLoader is going to create. Please be aware that excessive worker creation might get DataLoader running slow or even freeze, lower the worker number to avoid potential slowness/freeze if necessary.\n",
      "  cpuset_checked))\n"
     ]
    }
   ],
   "source": [
    "# use hydra configs to load the dataset\n",
    "import hydra\n",
    "from utils import hydra_custom_resolvers\n",
    "import torch\n",
    "from torchvision import transforms\n",
    "import torch.nn.functional as F\n",
    "import numpy as np\n",
    "from omegaconf import OmegaConf\n",
    "import matplotlib.pyplot as plt\n",
    "from PIL import Image as Image, ImageEnhance\n",
    "configs_path = \"configs\"\n",
    "# config_name = \"train_root.yaml\"\n",
    "config_name = \"train_root.yaml\"\n",
    "\n",
    "with hydra.initialize(config_path=configs_path):\n",
    "    config = hydra.compose(config_name=config_name,\n",
    "                            overrides=[\n",
    "                                \"datamodule=mixing\",\n",
    "                                \"datamodule.dataset.num_domains=10\",\n",
    "                                # \"model=mixing\"\n",
    "                            ],\n",
    "                            return_hydra_config=True,\n",
    "    )\n",
    "\n",
    "    # setup the dataset with the hydra config\n",
    "    datamodule = hydra.utils.instantiate(config.datamodule, _recursive_=False)\n",
    "    datamodule.prepare_data()\n",
    "    datamodule.setup()\n",
    "\n",
    "    # instantiate the model with hydra\n",
    "    # model = hydra.utils.instantiate(config.model, _recursive_=False)\n",
    "\n",
    "iterator = iter(datamodule.test_dataloader())"
   ]
  },
  {
   "cell_type": "code",
   "execution_count": 9,
   "metadata": {},
   "outputs": [],
   "source": [
    "z_dim_invariant_data = datamodule.train_dataset.dataset.z_dim_invariant\n",
    "z_dim = datamodule.train_dataset.dataset.z_dim"
   ]
  },
  {
   "cell_type": "code",
   "execution_count": 3,
   "metadata": {},
   "outputs": [],
   "source": [
    "batch = next(iterator)"
   ]
  },
  {
   "cell_type": "code",
   "execution_count": 4,
   "metadata": {},
   "outputs": [
    {
     "data": {
      "text/plain": [
       "tensor(0.0984)"
      ]
     },
     "execution_count": 4,
     "metadata": {},
     "output_type": "execute_result"
    }
   ],
   "source": [
    "batch[\"z\"][(batch[\"domain\"] == 1).squeeze(), :z_dim_invariant_data].min()"
   ]
  },
  {
   "cell_type": "code",
   "execution_count": 11,
   "metadata": {},
   "outputs": [
    {
     "name": "stdout",
     "output_type": "stream",
     "text": [
      "----------------\n",
      "domain:0, z_dim:2 -- min:-3.395689010620117, max:-1.9791346788406372, mean:-2.710878849029541\n",
      "domain:0, z_dim:3 -- min:-1.2148573398590088, max:-0.8057138919830322, mean:-1.0142569541931152\n",
      "domain:1, z_dim:2 -- min:-4.767006874084473, max:-2.539933681488037, mean:-3.676292896270752\n",
      "domain:1, z_dim:3 -- min:-4.0764007568359375, max:-0.9848365783691406, mean:-2.4427056312561035\n",
      "domain:2, z_dim:2 -- min:-1.7045924663543701, max:-0.3207516670227051, mean:-0.9372190237045288\n",
      "domain:2, z_dim:3 -- min:1.9994860887527466, max:2.109677791595459, mean:2.0614607334136963\n",
      "domain:3, z_dim:2 -- min:3.3331382274627686, max:4.46589469909668, mean:3.8830065727233887\n",
      "domain:3, z_dim:3 -- min:-2.0340495109558105, max:-0.48385369777679443, mean:-1.1251734495162964\n",
      "domain:4, z_dim:2 -- min:-2.998680353164673, max:-1.8430469036102295, mean:-2.490309715270996\n",
      "domain:4, z_dim:3 -- min:-4.002238750457764, max:-3.2039177417755127, mean:-3.526283025741577\n",
      "domain:5, z_dim:2 -- min:-4.054628849029541, max:-0.6411967277526855, mean:-2.3517112731933594\n",
      "domain:5, z_dim:3 -- min:3.238177537918091, max:4.8626790046691895, mean:4.02437162399292\n",
      "domain:6, z_dim:2 -- min:3.003408670425415, max:3.540334701538086, mean:3.2923946380615234\n",
      "domain:6, z_dim:3 -- min:-2.2823867797851562, max:-1.5723302364349365, mean:-1.9512783288955688\n",
      "domain:7, z_dim:2 -- min:2.2318673133850098, max:3.1999824047088623, mean:2.687049627304077\n",
      "domain:7, z_dim:3 -- min:1.573473334312439, max:2.007068395614624, mean:1.7897320985794067\n",
      "domain:8, z_dim:2 -- min:1.8634604215621948, max:2.204680919647217, mean:2.049686908721924\n",
      "domain:8, z_dim:3 -- min:-3.5353214740753174, max:-0.9030609130859375, mean:-2.120600938796997\n",
      "domain:9, z_dim:2 -- min:-4.245664596557617, max:-1.352147102355957, mean:-2.533360242843628\n",
      "domain:9, z_dim:3 -- min:-2.720309257507324, max:-2.100924253463745, mean:-2.4299817085266113\n"
     ]
    }
   ],
   "source": [
    "for domain_idx in range(datamodule.train_dataset.dataset.num_domains):\n",
    "    print(f\"domain:{domain_idx} -- min:{batch['z'][(batch['domain'] == domain_idx).squeeze(), :z_dim_invariant_data].min()}, max:{batch['z'][(batch['domain'] == domain_idx).squeeze(), :z_dim_invariant_data].max()}, mean:{batch['z'][(batch['domain'] == domain_idx).squeeze(), :z_dim_invariant_data].mean()}\")\n",
    "print(\"----------------\")\n",
    "for domain_idx in range(datamodule.train_dataset.dataset.num_domains):\n",
    "    print(f\"domain:{domain_idx} -- min:{batch['z'][(batch['domain'] == domain_idx).squeeze(), z_dim_invariant_data:].min()}, max:{batch['z'][(batch['domain'] == domain_idx).squeeze(), z_dim_invariant_data:].max()}, mean:{batch['z'][(batch['domain'] == domain_idx).squeeze(), z_dim_invariant_data:].mean()}\")\n",
    "print(\"----------------\")\n",
    "for domain_idx in range(datamodule.train_dataset.dataset.num_domains):\n",
    "    for z_dim_spurious in range(z_dim_invariant_data, z_dim):\n",
    "        print(f\"domain:{domain_idx}, z_dim:{z_dim_spurious} -- min:{batch['z'][(batch['domain'] == domain_idx).squeeze(), z_dim_spurious].min()}, max:{batch['z'][(batch['domain'] == domain_idx).squeeze(), z_dim_spurious].max()}, mean:{batch['z'][(batch['domain'] == domain_idx).squeeze(), z_dim_spurious].mean()}\")"
   ]
  },
  {
   "cell_type": "markdown",
   "metadata": {},
   "source": [
    "## Coloured MNIST Experiments"
   ]
  },
  {
   "cell_type": "code",
   "execution_count": null,
   "metadata": {},
   "outputs": [],
   "source": [
    "# golden standard\n",
    "import numpy as np\n",
    "import os\n",
    "import math\n",
    "import torch\n",
    "import torchvision\n",
    "from torchvision import transforms\n",
    "\n",
    "\n",
    "\n",
    "# laod MNIST\n",
    "transform=transforms.Compose([\n",
    "        transforms.ToTensor(),\n",
    "        transforms.Normalize((0.1307,), (0.3081,))\n",
    "        ])\n",
    "root = \"/network/datasets/torchvision\"\n",
    "data = torchvision.datasets.MNIST(root, True, transform=transform)\n",
    "\n",
    "# color it"
   ]
  },
  {
   "cell_type": "code",
   "execution_count": null,
   "metadata": {},
   "outputs": [],
   "source": [
    "import matplotlib.pyplot as plt\n",
    "plt.imshow(data[0][0].permute(1,2,0).repeat(1, 1, 3), cmap='gray')"
   ]
  },
  {
   "cell_type": "code",
   "execution_count": 1,
   "metadata": {},
   "outputs": [
    {
     "name": "stderr",
     "output_type": "stream",
     "text": [
      "/home/mila/s/sayed.mansouri-tehrani/.conda/envs/bb/lib/python3.7/site-packages/torch/utils/data/dataloader.py:557: UserWarning: This DataLoader will create 6 worker processes in total. Our suggested max number of worker in current system is 1, which is smaller than what this DataLoader is going to create. Please be aware that excessive worker creation might get DataLoader running slow or even freeze, lower the worker number to avoid potential slowness/freeze if necessary.\n",
      "  cpuset_checked))\n"
     ]
    }
   ],
   "source": [
    "# use hydra configs to load the dataset\n",
    "import hydra\n",
    "from utils import hydra_custom_resolvers\n",
    "import torch\n",
    "from torchvision import transforms\n",
    "import torch.nn.functional as F\n",
    "import numpy as np\n",
    "from omegaconf import OmegaConf\n",
    "import matplotlib.pyplot as plt\n",
    "from PIL import Image as Image, ImageEnhance\n",
    "configs_path = \"configs\"\n",
    "# config_name = \"train_root.yaml\"\n",
    "config_name = \"evaluate_root.yaml\"\n",
    "\n",
    "with hydra.initialize(config_path=configs_path):\n",
    "    config = hydra.compose(config_name=config_name,\n",
    "                            overrides=[\n",
    "                                # \"datamodule/dataset=mnist\",\n",
    "                                \"datamodule/dataset=multi_domain_mnist\",\n",
    "                                # \"+ckpt_path='/home/mila/s/sayed.mansouri-tehrani/MD-CRL/autoencoder_multi_domain_mnist_32-epoch=52-val_loss=0.01.ckpt'\",\n",
    "                                # \"model.autoencoder.num_channels=3\",\n",
    "                            ],\n",
    "                            return_hydra_config=True,\n",
    "    )\n",
    "\n",
    "    transform = transforms.Compose([hydra.utils.instantiate(t) for _, t in config.datamodule.transforms.items()])\n",
    "    def renormalize():\n",
    "        for _, t in config.datamodule.transforms.items():\n",
    "            if \"Standardize\" in t[\"_target_\"]:\n",
    "                \"\"\"Renormalize from [-1, 1] to [0, 1].\"\"\"\n",
    "                return lambda x: x / 2.0 + 0.5\n",
    "            \n",
    "    # setup the dataset with the hydra config\n",
    "    datamodule = hydra.utils.instantiate(config.datamodule, _recursive_=False)\n",
    "    datamodule.prepare_data()\n",
    "    datamodule.setup()\n",
    "\n",
    "    # instantiate the model with hydra\n",
    "    # model = hydra.utils.instantiate(config.model, _recursive_=False)\n",
    "\n",
    "renormalize = datamodule.renormalize()\n",
    "iterator = iter(datamodule.test_dataloader())"
   ]
  },
  {
   "cell_type": "code",
   "execution_count": 2,
   "metadata": {},
   "outputs": [],
   "source": [
    "# use hydra configs to load the dataset\n",
    "import hydra\n",
    "from utils import hydra_custom_resolvers\n",
    "import torch\n",
    "from torchvision import transforms\n",
    "import torch.nn.functional as F\n",
    "import numpy as np\n",
    "from omegaconf import OmegaConf\n",
    "import matplotlib.pyplot as plt\n",
    "from PIL import Image as Image, ImageEnhance\n",
    "configs_path = \"configs\"\n",
    "config_name = \"train_root.yaml\"\n",
    "# config_name = \"evaluate_root.yaml\"\n",
    "\n",
    "with hydra.initialize(config_path=configs_path):\n",
    "    config = hydra.compose(config_name=config_name,\n",
    "                            overrides=[\n",
    "                                # \"datamodule/dataset=mnist\",\n",
    "                                # \"datamodule/dataset=multi_domain_mnist\",\n",
    "                                # \"+ckpt_path='/home/mila/s/sayed.mansouri-tehrani/MD-CRL/autoencoder_multi_domain_mnist_32-epoch=52-val_loss=0.01.ckpt'\",\n",
    "                                \"model.autoencoder.num_channels=3\",\n",
    "                                # \"model.autoencoder.num_channels=3\",\n",
    "                            ],\n",
    "                            return_hydra_config=True,\n",
    "    )\n",
    "\n",
    "    # instantiate the model with hydra\n",
    "    model = hydra.utils.instantiate(config.model, _recursive_=False)\n"
   ]
  },
  {
   "cell_type": "code",
   "execution_count": null,
   "metadata": {},
   "outputs": [],
   "source": [
    "m = torch.load(\"/home/mila/s/sayed.mansouri-tehrani/MD-CRL/autoencoder_multi_domain_mnist_32-epoch=52-val_loss=0.01.ckpt\")"
   ]
  },
  {
   "cell_type": "code",
   "execution_count": null,
   "metadata": {},
   "outputs": [],
   "source": [
    "for key in model.state_dict().keys():\n",
    "    print((model.state_dict()[key] == m[\"state_dict\"][key].to('cpu')).all())"
   ]
  },
  {
   "cell_type": "code",
   "execution_count": null,
   "metadata": {},
   "outputs": [
    {
     "data": {
      "text/plain": [
       "\"decoder_fc\":   {'_target_': 'models.modules.fc_ae.Decoder', 'latent_size': 32, 'width': 28, 'height': 28, 'num_channels': 3, 'decoder_layers': {'Linear1': {'_target_': 'torch.nn.Linear', 'in_features': 32, 'out_features': 64}, 'LeakyReLU1': {'_target_': 'torch.nn.LeakyReLU'}, 'Dropout1': {'_target_': 'torch.nn.Dropout', 'p': 0.5}, 'Linear2': {'_target_': 'torch.nn.Linear', 'in_features': 64, 'out_features': 128}, 'LeakyReLU2': {'_target_': 'torch.nn.LeakyReLU'}, 'Dropout2': {'_target_': 'torch.nn.Dropout', 'p': 0.5}, 'Linear3': {'_target_': 'torch.nn.Linear', 'in_features': 128, 'out_features': 256}, 'LeakyReLU3': {'_target_': 'torch.nn.LeakyReLU'}, 'Dropout3': {'_target_': 'torch.nn.Dropout', 'p': 0.5}, 'Linear4': {'_target_': 'torch.nn.Linear', 'in_features': 256, 'out_features': 512}, 'LeakyReLU4': {'_target_': 'torch.nn.LeakyReLU'}, 'Dropout4': {'_target_': 'torch.nn.Dropout', 'p': 0.5}, 'Linear5': {'_target_': 'torch.nn.Linear', 'in_features': 512, 'out_features': 2352}, 'LeakyReLU5': {'_target_': 'torch.nn.LeakyReLU'}}}\n",
       "\"encoder_fc\":   {'_target_': 'models.modules.fc_ae.Encoder', 'latent_size': 32, 'width': 28, 'height': 28, 'encoder_layers': {'Flatten': {'_target_': 'torch.nn.Flatten'}, 'Linear1': {'_target_': 'torch.nn.Linear', 'in_features': 2352, 'out_features': 512}, 'LeakyReLU1': {'_target_': 'torch.nn.LeakyReLU'}, 'Dropout1': {'_target_': 'torch.nn.Dropout', 'p': 0.5}, 'Linear2': {'_target_': 'torch.nn.Linear', 'in_features': 512, 'out_features': 256}, 'LeakyReLU2': {'_target_': 'torch.nn.LeakyReLU'}, 'Dropout2': {'_target_': 'torch.nn.Dropout', 'p': 0.5}, 'Linear3': {'_target_': 'torch.nn.Linear', 'in_features': 256, 'out_features': 128}, 'LeakyReLU3': {'_target_': 'torch.nn.LeakyReLU'}, 'Dropout3': {'_target_': 'torch.nn.Dropout', 'p': 0.5}, 'Linear4': {'_target_': 'torch.nn.Linear', 'in_features': 128, 'out_features': 64}, 'LeakyReLU4': {'_target_': 'torch.nn.LeakyReLU'}, 'Dropout4': {'_target_': 'torch.nn.Dropout', 'p': 0.5}, 'Linear5': {'_target_': 'torch.nn.Linear', 'in_features': 64, 'out_features': 32}, 'LeakyReLU5': {'_target_': 'torch.nn.LeakyReLU'}}}\n",
       "\"height\":       28\n",
       "\"latent_dim\":   32\n",
       "\"num_channels\": 3\n",
       "\"width\":        28"
      ]
     },
     "execution_count": 10,
     "metadata": {},
     "output_type": "execute_result"
    }
   ],
   "source": [
    "model.model.hparams"
   ]
  },
  {
   "cell_type": "code",
   "execution_count": 3,
   "metadata": {},
   "outputs": [],
   "source": [
    "batch = next(iterator)\n",
    "img, labels = batch[\"image\"], batch[\"label\"]\n",
    "# img, labels, domains, colors = batch[\"image\"], batch[\"label\"], batch[\"domain\"], batch[\"color\"]"
   ]
  },
  {
   "cell_type": "code",
   "execution_count": 4,
   "metadata": {},
   "outputs": [
    {
     "data": {
      "text/plain": [
       "torch.Size([256, 32])"
      ]
     },
     "execution_count": 4,
     "metadata": {},
     "output_type": "execute_result"
    }
   ],
   "source": [
    "model(img)[0].shape"
   ]
  },
  {
   "cell_type": "code",
   "execution_count": 4,
   "metadata": {},
   "outputs": [
    {
     "data": {
      "image/png": "[encoded data removed]",
      "text/plain": [
       "<Figure size 720x720 with 6 Axes>"
      ]
     },
     "metadata": {
      "needs_background": "light"
     },
     "output_type": "display_data"
    }
   ],
   "source": [
    "# plot 3 images from each domain\n",
    "fig, axs = plt.subplots(datamodule.train_dataset.dataset.num_domains, 3, figsize=(10, 10))\n",
    "for domain_idx in range(datamodule.train_dataset.dataset.num_domains):\n",
    "    for img_idx in range(3):\n",
    "        axs[domain_idx, img_idx].imshow(img[(labels == img_idx) & (batch[\"domain\"] == domain_idx)][0].permute(1,2,0))\n",
    "        axs[domain_idx, img_idx].set_title(f\"domain:{domain_idx}, label:{img_idx}\")\n",
    "        axs[domain_idx, img_idx].axis(\"off\")"
   ]
  },
  {
   "cell_type": "code",
   "execution_count": 3,
   "metadata": {},
   "outputs": [
    {
     "data": {
      "text/plain": [
       "torch.Size([256, 3, 28, 28])"
      ]
     },
     "execution_count": 3,
     "metadata": {},
     "output_type": "execute_result"
    }
   ],
   "source": [
    "img.shape"
   ]
  },
  {
   "cell_type": "code",
   "execution_count": null,
   "metadata": {},
   "outputs": [],
   "source": [
    "z, recons = model.model(img)"
   ]
  },
  {
   "cell_type": "code",
   "execution_count": null,
   "metadata": {},
   "outputs": [],
   "source": [
    "domain_z_mins = torch.zeros((2, 16, 5))\n",
    "domain_z_maxs = torch.zeros((2, 16, 5))\n",
    "\n",
    "# z is [batch_size, latent_dim], so is domains. For the first d dimensions\n",
    "# of z, find the top_k smallest values of that dimension in each domain\n",
    "# find the mask of z's for each domain\n",
    "# for each domain, and for each of the first d dimensions, \n",
    "# find the top_k smallest values of that z dimension in that domain\n",
    "for domain_idx in range(2):\n",
    "    domain_mask = (domains == domain_idx).squeeze()\n",
    "    domain_z = z[domain_mask]\n",
    "    # for each dimension i among the first d dimensions of z, find the top_k\n",
    "    # smallest values of dimension i in domain_z\n",
    "    for i in range(16):\n",
    "        domain_z_sorted, _ = torch.sort(domain_z[:, i], dim=0)\n",
    "        domain_z_sorted = domain_z_sorted.squeeze()\n",
    "        domain_z_sorted = domain_z_sorted[:5]\n",
    "        domain_z_mins[domain_idx, i, :] = domain_z_sorted\n",
    "        # find the top_k largest values of dimension i in domain_z\n",
    "        domain_z_sorted, _ = torch.sort(domain_z[:, i], dim=0, descending=True)\n",
    "        domain_z_sorted = domain_z_sorted.squeeze()\n",
    "        domain_z_sorted = domain_z_sorted[:5]\n",
    "        domain_z_maxs[domain_idx, i, :] = domain_z_sorted\n",
    "\n",
    "mse_mins = F.mse_loss(domain_z_mins[0], domain_z_mins[1], reduction=\"mean\")\n",
    "mse_maxs = F.mse_loss(domain_z_maxs[0], domain_z_maxs[1], reduction=\"mean\")\n"
   ]
  },
  {
   "cell_type": "code",
   "execution_count": null,
   "metadata": {},
   "outputs": [
    {
     "name": "stdout",
     "output_type": "stream",
     "text": [
      "tensor(0.4542, grad_fn=<MseLossBackward0>)\n"
     ]
    }
   ],
   "source": [
    "# print(domain_z_mins[0])\n",
    "# print(domain_z_mins[1])\n",
    "# print(domain_z_maxs[0])\n",
    "# print(domain_z_maxs[1])\n",
    "mse_mins = F.mse_loss(domain_z_mins[0], domain_z_mins[1], reduction=\"sum\")\n",
    "print(mse_mins)"
   ]
  },
  {
   "cell_type": "code",
   "execution_count": null,
   "metadata": {},
   "outputs": [],
   "source": [
    "import matplotlib.pyplot as plt\n",
    "\n",
    "# a function to clamps the values of a numpy array between 0,1\n",
    "def clamp(x):\n",
    "    return np.minimum(np.maximum(x, 0), 1)\n",
    "\n",
    "for i in range(10):\n",
    "    plt.figure()\n",
    "    plt.imshow(clamp(recons[i].detach().cpu().numpy()))"
   ]
  },
  {
   "cell_type": "code",
   "execution_count": null,
   "metadata": {},
   "outputs": [],
   "source": [
    "# iterator = iter(datamodule.train_dataloader())\n",
    "iterator = iter(datamodule.test_dataloader())\n",
    "# iterator = iter(datamodule.val_dataloader())\n",
    "print(next(iterator)[\"image\"].shape)\n",
    "import matplotlib.pyplot as plt\n",
    "for i in range(20,40):\n",
    "    sample = next(iterator)\n",
    "    sample_img, sample_label, sample_domain, sample_color = sample[\"image\"][i], sample[\"label\"][i], sample[\"domain\"][i], sample[\"color\"][i]\n",
    "    print(f\"sample_label: {sample_label}, sample_domain: {sample_domain}, sample_color: {sample_color}\")\n",
    "    plt.figure()\n",
    "    plt.imshow(sample_img)"
   ]
  },
  {
   "cell_type": "code",
   "execution_count": 4,
   "metadata": {},
   "outputs": [
    {
     "data": {
      "text/plain": [
       "AutoencoderPL(\n",
       "  (model): CNNAE(\n",
       "    (encoder_cnn): Encoder(\n",
       "      (layers): Sequential(\n",
       "        (0): Conv2d(3, 4, kernel_size=(4, 4), stride=(2, 2), padding=(1, 1))\n",
       "        (1): ReLU()\n",
       "        (2): Conv2d(4, 8, kernel_size=(4, 4), stride=(2, 2), padding=(1, 1))\n",
       "        (3): ReLU()\n",
       "        (4): Conv2d(8, 16, kernel_size=(4, 4), stride=(2, 2), padding=(1, 1))\n",
       "        (5): ReLU()\n",
       "        (6): Conv2d(16, 32, kernel_size=(4, 4), stride=(2, 2), padding=(1, 1))\n",
       "        (7): ReLU()\n",
       "      )\n",
       "    )\n",
       "    (decoder_cnn): Decoder(\n",
       "      (layers): Sequential(\n",
       "        (0): ConvTranspose2d(32, 32, kernel_size=(4, 4), stride=(1, 1), padding=(1, 1))\n",
       "        (1): BatchNorm2d(32, eps=1e-05, momentum=0.1, affine=True, track_running_stats=True)\n",
       "        (2): ReLU()\n",
       "        (3): ConvTranspose2d(32, 16, kernel_size=(4, 4), stride=(2, 2), padding=(2, 2))\n",
       "        (4): BatchNorm2d(16, eps=1e-05, momentum=0.1, affine=True, track_running_stats=True)\n",
       "        (5): ReLU()\n",
       "        (6): ConvTranspose2d(16, 8, kernel_size=(4, 4), stride=(2, 2), padding=(1, 1))\n",
       "        (7): BatchNorm2d(8, eps=1e-05, momentum=0.1, affine=True, track_running_stats=True)\n",
       "        (8): ReLU()\n",
       "        (9): ConvTranspose2d(8, 4, kernel_size=(4, 4), stride=(2, 2), padding=(1, 1))\n",
       "        (10): BatchNorm2d(4, eps=1e-05, momentum=0.1, affine=True, track_running_stats=True)\n",
       "        (11): ReLU()\n",
       "        (12): ConvTranspose2d(4, 4, kernel_size=(2, 2), stride=(2, 2), padding=(1, 1))\n",
       "        (13): BatchNorm2d(4, eps=1e-05, momentum=0.1, affine=True, track_running_stats=True)\n",
       "        (14): ReLU()\n",
       "        (15): ConvTranspose2d(4, 3, kernel_size=(4, 4), stride=(2, 2), padding=(1, 1))\n",
       "        (16): ReLU()\n",
       "      )\n",
       "    )\n",
       "  )\n",
       ")"
      ]
     },
     "execution_count": 4,
     "metadata": {},
     "output_type": "execute_result"
    }
   ],
   "source": [
    "model"
   ]
  },
  {
   "cell_type": "code",
   "execution_count": null,
   "metadata": {},
   "outputs": [],
   "source": []
  }
 ],
 "metadata": {
  "kernelspec": {
   "display_name": "bb",
   "language": "python",
   "name": "python3"
  },
  "language_info": {
   "codemirror_mode": {
    "name": "ipython",
    "version": 3
   },
   "file_extension": ".py",
   "mimetype": "text/x-python",
   "name": "python",
   "nbconvert_exporter": "python",
   "pygments_lexer": "ipython3",
   "version": "3.7.11"
  },
  "orig_nbformat": 4
 },
 "nbformat": 4,
 "nbformat_minor": 2
}
